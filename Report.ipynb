{
    "cells": [
        {
            "metadata": {
                "collapsed": true
            },
            "cell_type": "markdown",
            "source": "# Report: The battle of Neighborhoods"
        },
        {
            "metadata": {},
            "cell_type": "markdown",
            "source": "## Introduction/Business Problem "
        },
        {
            "metadata": {},
            "cell_type": "markdown",
            "source": "It happened almost by accident. <br>\nIt was Chiara and I, at the coffee shop, in front of a cappuccino, when she said to me: \"I may seem crazy, but I would like to open a gym in Manhattan.\" \n<br>\nI was impressed, Chiara graduated in Law and I didn't expect her to have this idea. <br>\n\"What I'm missing is to feel comfortable, I wouldn't want it to turn out to be a failure,\" she said. <br>\nAt this point, it seemed necessary to take advantage of all my knowledge acquired in the IBM Data Scientist certification program."
        },
        {
            "metadata": {},
            "cell_type": "markdown",
            "source": "## Data"
        },
        {
            "metadata": {},
            "cell_type": "markdown",
            "source": "In this project, data was collected from:\n- a json containing New York data, available [here](https://cocl.us/new_york_dataset) \n- Foursquare API"
        },
        {
            "metadata": {},
            "cell_type": "markdown",
            "source": "### New York data (json)"
        },
        {
            "metadata": {},
            "cell_type": "markdown",
            "source": "This file contains the following info:\n- Borough\n- Neighborhood\n- Latitude\n- Longitude"
        },
        {
            "metadata": {},
            "cell_type": "markdown",
            "source": "### Foursquare API"
        },
        {
            "metadata": {},
            "cell_type": "markdown",
            "source": "Venues in Manhattan were collected via this kind of API call: \n> https://api.foursquare.com/v2/venues/explore?&client_id=XXXXXXXX&client_secret=XXXXXXXX&v=20180605&ll=40.87655077879964,-73.91065965862981&radius=500&limit=100) "
        },
        {
            "metadata": {},
            "cell_type": "code",
            "source": "Data was then transformed in order to segment venues by Boroughs and find what kind of businesse",
            "execution_count": null,
            "outputs": []
        }
    ],
    "metadata": {
        "kernelspec": {
            "name": "python3",
            "display_name": "Python 3.6",
            "language": "python"
        },
        "language_info": {
            "name": "python",
            "version": "3.6.9",
            "mimetype": "text/x-python",
            "codemirror_mode": {
                "name": "ipython",
                "version": 3
            },
            "pygments_lexer": "ipython3",
            "nbconvert_exporter": "python",
            "file_extension": ".py"
        }
    },
    "nbformat": 4,
    "nbformat_minor": 1
}