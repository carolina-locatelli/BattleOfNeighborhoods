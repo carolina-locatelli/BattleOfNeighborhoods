{
    "cells": [
        {
            "cell_type": "markdown",
            "metadata": {
                "collapsed": true
            },
            "source": "# Report: The battle of Neighborhoods"
        },
        {
            "cell_type": "markdown",
            "metadata": {},
            "source": "## Introduction/Business Problem "
        },
        {
            "cell_type": "markdown",
            "metadata": {},
            "source": "It happened almost by accident. <br>\nIt was Chiara and I, at the coffee shop, in front of a cappuccino, when she said to me: \"I may seem crazy, but I would like to open a gym in Manhattan.\" \n<br>\nI was impressed, Chiara graduated in Law and I didn't expect her to have this idea. <br>\n\"What I'm missing is to feel comfortable, I wouldn't want it to turn out to be a failure,\" she said. <br>\nAt this point, it seemed necessary to take advantage of all my knowledge acquired in the IBM Data Scientist certification program."
        },
        {
            "cell_type": "markdown",
            "metadata": {},
            "source": "## Data"
        },
        {
            "cell_type": "markdown",
            "metadata": {},
            "source": "In this project, data was collected from:\n- a json containing New York data, available [here](https://cocl.us/new_york_dataset) \n- Foursquare API"
        },
        {
            "cell_type": "markdown",
            "metadata": {},
            "source": "### New York data (json)"
        },
        {
            "cell_type": "markdown",
            "metadata": {},
            "source": "This file contains the following info:\n- Borough\n- Neighborhood\n- Latitude\n- Longitude"
        },
        {
            "cell_type": "markdown",
            "metadata": {},
            "source": "### Foursquare API"
        },
        {
            "cell_type": "markdown",
            "metadata": {},
            "source": "Venues in Manhattan were collected via this kind of API call: \n> https://api.foursquare.com/v2/venues/explore?&client_id=XXXXXXXX&client_secret=XXXXXXXX&v=20180605&ll=40.87655077879964,-73.91065965862981&radius=500&limit=100) "
        },
        {
            "cell_type": "markdown",
            "metadata": {},
            "source": "Data was then transformed in order to segment venues by Neighborhood and find what kind of businesses were the most common and where."
        },
        {
            "cell_type": "code",
            "execution_count": null,
            "metadata": {},
            "outputs": [],
            "source": ""
        }
    ],
    "metadata": {
        "kernelspec": {
            "display_name": "Python 3.6",
            "language": "python",
            "name": "python3"
        },
        "language_info": {
            "codemirror_mode": {
                "name": "ipython",
                "version": 3
            },
            "file_extension": ".py",
            "mimetype": "text/x-python",
            "name": "python",
            "nbconvert_exporter": "python",
            "pygments_lexer": "ipython3",
            "version": "3.6.9"
        }
    },
    "nbformat": 4,
    "nbformat_minor": 1
}